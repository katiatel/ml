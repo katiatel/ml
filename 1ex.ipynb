{
  "nbformat": 4,
  "nbformat_minor": 0,
  "metadata": {
    "colab": {
      "name": "1ex.ipynb",
      "provenance": [],
      "include_colab_link": true
    },
    "kernelspec": {
      "name": "python3",
      "display_name": "Python 3"
    },
    "language_info": {
      "name": "python"
    }
  },
  "cells": [
    {
      "cell_type": "markdown",
      "metadata": {
        "id": "view-in-github",
        "colab_type": "text"
      },
      "source": [
        "<a href=\"https://colab.research.google.com/github/katiatel/ml/blob/main/1ex.ipynb\" target=\"_parent\"><img src=\"https://colab.research.google.com/assets/colab-badge.svg\" alt=\"Open In Colab\"/></a>"
      ]
    },
    {
      "cell_type": "code",
      "metadata": {
        "id": "m-126CJJSzyr"
      },
      "source": [
        "import pandas as pd\n",
        "import numpy as np\n",
        "from sklearn.linear_model import LogisticRegression\n",
        "from sklearn.preprocessing import MinMaxScaler\n",
        "from sklearn.neighbors import DistanceMetric"
      ],
      "execution_count": 78,
      "outputs": []
    },
    {
      "cell_type": "code",
      "metadata": {
        "colab": {
          "base_uri": "https://localhost:8080/"
        },
        "id": "hSFsG7TcT5Zf",
        "outputId": "2fa63c97-487a-44e2-c3bc-284ad1c35f8c"
      },
      "source": [
        "DATA = pd.read_csv('pulsar_stars_new.csv', decimal='.', delimiter=\",\")\n",
        "\n",
        "pulsar_stars = DATA[((DATA.TARGET == 0) & (DATA.MIP >= 88.484375) & (DATA.MIP <= 89.453125)) |\n",
        "                    ((DATA.TARGET == 1) & (DATA.MIP >= 65.078125) & (DATA.MIP <= 70.7421875))]\n",
        "\n",
        "print(\"Кол-во строк:\", len(pulsar_stars))\n",
        "print(\"До нормировки:\", pulsar_stars.MIP.mean())"
      ],
      "execution_count": 79,
      "outputs": [
        {
          "output_type": "stream",
          "name": "stdout",
          "text": [
            "Кол-во строк: 202\n",
            "До нормировки: 78.3495900371287\n"
          ]
        }
      ]
    },
    {
      "cell_type": "code",
      "metadata": {
        "colab": {
          "base_uri": "https://localhost:8080/"
        },
        "id": "-fp6sD4uUDkN",
        "outputId": "fac9cede-3420-4b06-e41d-c05c86ec1b66"
      },
      "source": [
        "scaler = MinMaxScaler()\n",
        "scaler.fit(pulsar_stars)\n",
        "pulsar_stars = pd.DataFrame(scaler.transform(pulsar_stars), columns=pulsar_stars.columns)\n",
        "\n",
        "print(\"После нормировки:\", pulsar_stars.MIP.mean())"
      ],
      "execution_count": 80,
      "outputs": [
        {
          "output_type": "stream",
          "name": "stdout",
          "text": [
            "После нормировки: 0.5444703604975883\n"
          ]
        }
      ]
    },
    {
      "cell_type": "code",
      "metadata": {
        "id": "wWr4ZSliVSw6"
      },
      "source": [
        "STAR = [0.595, 0.894, 0.813, 0.868, 0.067, 0.547, 0.08, 0.427] #\n"
      ],
      "execution_count": 81,
      "outputs": []
    },
    {
      "cell_type": "code",
      "metadata": {
        "id": "6eVR2UMdVgSY"
      },
      "source": [
        "X = pd.DataFrame(pulsar_stars.drop([\"TARGET\"], axis=1))  \n",
        "y = pd.DataFrame(pulsar_stars[\"TARGET\"])"
      ],
      "execution_count": 82,
      "outputs": []
    },
    {
      "cell_type": "code",
      "metadata": {
        "colab": {
          "base_uri": "https://localhost:8080/"
        },
        "id": "SRe5OVy-xaoK",
        "outputId": "f0db4b90-7029-4f20-9008-00433472b8e4"
      },
      "source": [
        "reg = LogisticRegression(random_state=2019, solver='lbfgs').fit(X, y.values.ravel ())\n",
        "for i, p in enumerate(reg.predict_proba([STAR])[0]):\n",
        "    print(\"Вероятность отнесения к классу \\\"\" + (\"не пульсар\" if i == 0 else \"пульсар\") + \"\\\": \", p)"
      ],
      "execution_count": 83,
      "outputs": [
        {
          "output_type": "stream",
          "name": "stdout",
          "text": [
            "Вероятность отнесения к классу \"не пульсар\":  0.1397987030488711\n",
            "Вероятность отнесения к классу \"пульсар\":  0.8602012969511289\n"
          ]
        }
      ]
    },
    {
      "cell_type": "code",
      "metadata": {
        "id": "73IC1Ki2VsKJ"
      },
      "source": [
        "for m in [\"euclidean\"]: #\n",
        "    dist = DistanceMetric.get_metric(m)\n",
        "    distances = [dist.pairwise(np.concatenate(([i], [STAR])))[0][1] for i in list(X.values)]"
      ],
      "execution_count": 84,
      "outputs": []
    },
    {
      "cell_type": "code",
      "metadata": {
        "colab": {
          "base_uri": "https://localhost:8080/"
        },
        "id": "p618VEZKV2Dg",
        "outputId": "5b3b4f9a-e37c-406c-e8cd-d34febb1300e"
      },
      "source": [
        "    print(\"Расстояние до ближайшего по метрике \\\"\" + m + \"\\\":\", min(distances))"
      ],
      "execution_count": 85,
      "outputs": [
        {
          "output_type": "stream",
          "name": "stdout",
          "text": [
            "Расстояние до ближайшего по метрике \"euclidean\": 0.9539646680855423\n"
          ]
        }
      ]
    },
    {
      "cell_type": "markdown",
      "metadata": {
        "id": "oSoPvSb71BG9"
      },
      "source": [
        "Часть 2"
      ]
    },
    {
      "cell_type": "code",
      "metadata": {
        "colab": {
          "base_uri": "https://localhost:8080/"
        },
        "id": "6PONrgWM1AKU",
        "outputId": "7bc8feb6-736f-4cc2-fb09-68beab1746d2"
      },
      "source": [
        "!pip install mnist\n",
        "from sklearn.tree import DecisionTreeClassifier\n",
        "from sklearn.linear_model import LogisticRegression\n",
        "from sklearn.model_selection import train_test_split\n",
        "from sklearn.ensemble import RandomForestClassifier\n",
        "from sklearn.multiclass import OneVsRestClassifier\n",
        "from sklearn.metrics import confusion_matrix\n",
        "from sklearn.decomposition import PCA\n",
        "from sklearn.model_selection import train_test_split"
      ],
      "execution_count": 86,
      "outputs": [
        {
          "output_type": "stream",
          "name": "stdout",
          "text": [
            "Requirement already satisfied: mnist in /usr/local/lib/python3.7/dist-packages (0.2.2)\n",
            "Requirement already satisfied: numpy in /usr/local/lib/python3.7/dist-packages (from mnist) (1.19.5)\n"
          ]
        }
      ]
    },
    {
      "cell_type": "code",
      "metadata": {
        "id": "WtuPWVGR2-Aj"
      },
      "source": [
        "import pandas as pd\n",
        "import numpy as np\n",
        "import mnist\n",
        "import warnings"
      ],
      "execution_count": 87,
      "outputs": []
    },
    {
      "cell_type": "code",
      "metadata": {
        "colab": {
          "base_uri": "https://localhost:8080/"
        },
        "id": "1isVdyPY4bIG",
        "outputId": "dc721d87-9f6d-4ce6-f244-cf9e8abdb70a"
      },
      "source": [
        "from keras.datasets import mnist\n",
        "exp_disp = 0.76\n",
        "(X_train, y_train), (X_pred, y_pred) = mnist.load_data()\n",
        "dim = 784 \n",
        "X_train_ = X_train.reshape(len(X_train), dim)\n",
        "\n",
        "pca = PCA(svd_solver='full')\n",
        "pca = pca.fit(X_train_)#\n",
        "\n",
        "M=0\n",
        "for arg, val in enumerate(np.cumsum(pca.explained_variance_ratio_)):\n",
        "    if val > exp_disp:\n",
        "      M = arg + 1\n",
        "      break\n",
        "print(\"Кол-во комп\" + str (exp_disp) + \": \" + str(M))"
      ],
      "execution_count": 88,
      "outputs": [
        {
          "output_type": "stream",
          "name": "stdout",
          "text": [
            "Кол-во комп0.76: 35\n"
          ]
        }
      ]
    },
    {
      "cell_type": "code",
      "metadata": {
        "colab": {
          "base_uri": "https://localhost:8080/",
          "height": 130
        },
        "id": "Yc0PnGkx78Rl",
        "outputId": "78fa3b6a-efb6-4661-9fd0-dac0de1ea773"
      },
      "source": [
        "X_train = X_train.reshape(len(X_train), dim)\n",
        "\n",
        "pca = PCA(n_components=M, svd_solver='full')\n",
        "pca = pca.fit(X_train)\n",
        "\n",
        "X_train, X_test, y_test = train_test_split(X_train, y_train, test_size=0.3, random_state=33)\n",
        "\n",
        "X_train = pca.transform(X_train)\n",
        "X_test = pca.transform(X_test)\n",
        "\n",
        "print(str(X_train.transpose().mean)))"
      ],
      "execution_count": 90,
      "outputs": [
        {
          "output_type": "error",
          "ename": "SyntaxError",
          "evalue": "ignored",
          "traceback": [
            "\u001b[0;36m  File \u001b[0;32m\"<ipython-input-90-4eeccc57eceb>\"\u001b[0;36m, line \u001b[0;32m11\u001b[0m\n\u001b[0;31m    print(str(X_train.transpose().mean)))\u001b[0m\n\u001b[0m                                        ^\u001b[0m\n\u001b[0;31mSyntaxError\u001b[0m\u001b[0;31m:\u001b[0m invalid syntax\n"
          ]
        }
      ]
    },
    {
      "cell_type": "code",
      "metadata": {
        "id": "S-xPuseVBc8C"
      },
      "source": [
        "clf_random_forest = OneVsRestClassifier(random_forest).fit(X_train, y_train)"
      ],
      "execution_count": null,
      "outputs": []
    },
    {
      "cell_type": "code",
      "metadata": {
        "id": "-PjQfSsi_KBp"
      },
      "source": [
        "random_forest = RandomForestClassifier(criterion='gini', min_samples_leaf=min"
      ],
      "execution_count": null,
      "outputs": []
    }
  ]
}
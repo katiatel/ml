{
  "nbformat": 4,
  "nbformat_minor": 0,
  "metadata": {
    "colab": {
      "name": "Копия блокнота \"Копия блокнота \"Копия блокнота \"Untitled3.ipynb\"\"\"",
      "provenance": [],
      "include_colab_link": true
    },
    "kernelspec": {
      "name": "python3",
      "display_name": "Python 3"
    },
    "language_info": {
      "name": "python"
    }
  },
  "cells": [
    {
      "cell_type": "markdown",
      "metadata": {
        "id": "view-in-github",
        "colab_type": "text"
      },
      "source": [
        "<a href=\"https://colab.research.google.com/github/katiatel/ml/blob/main/all.ipynb\" target=\"_parent\"><img src=\"https://colab.research.google.com/assets/colab-badge.svg\" alt=\"Open In Colab\"/></a>"
      ]
    },
    {
      "cell_type": "code",
      "metadata": {
        "id": "m-126CJJSzyr"
      },
      "source": [
        "import pandas as pd\n",
        "import numpy as np\n",
        "from sklearn.linear_model import LogisticRegression\n",
        "from sklearn.preprocessing import MinMaxScaler\n",
        "from sklearn.neighbors import DistanceMetric"
      ],
      "execution_count": null,
      "outputs": []
    },
    {
      "cell_type": "code",
      "metadata": {
        "colab": {
          "base_uri": "https://localhost:8080/"
        },
        "id": "hSFsG7TcT5Zf",
        "outputId": "7ef12ea2-70c7-4366-c2b8-269769fc505f"
      },
      "source": [
        "DATA = pd.read_csv('pulsar_stars_new.csv', decimal='.', delimiter=\",\")\n",
        "\n",
        "pulsar_stars = DATA[((DATA.TARGET == 0) & (DATA.MIP >= 83) & (DATA.MIP <= 84)) |\n",
        "                    ((DATA.TARGET == 1) & (DATA.MIP >= 83) & (DATA.MIP <= 89))]\n",
        "\n",
        "print(\"Кол-во строк:\", len(pulsar_stars))\n",
        "print(\"До нормировки:\", pulsar_stars.MIP.mean())"
      ],
      "execution_count": null,
      "outputs": [
        {
          "output_type": "stream",
          "name": "stdout",
          "text": [
            "Кол-во строк: 136\n",
            "До нормировки: 84.54279641544117\n"
          ]
        }
      ]
    },
    {
      "cell_type": "code",
      "metadata": {
        "colab": {
          "base_uri": "https://localhost:8080/"
        },
        "id": "-fp6sD4uUDkN",
        "outputId": "a241053a-e1d7-4eaf-d81a-a0f71b290c3b"
      },
      "source": [
        "scaler = MinMaxScaler()\n",
        "scaler.fit(pulsar_stars)\n",
        "pulsar_stars = pd.DataFrame(scaler.transform(pulsar_stars), columns=pulsar_stars.columns)\n",
        "\n",
        "print(\"После нормировки:\", pulsar_stars.MIP.mean())"
      ],
      "execution_count": null,
      "outputs": [
        {
          "output_type": "stream",
          "name": "stdout",
          "text": [
            "После нормировки: 0.26595638255302173\n"
          ]
        }
      ]
    },
    {
      "cell_type": "code",
      "metadata": {
        "id": "wWr4ZSliVSw6"
      },
      "source": [
        "STAR = [0.1, 0.1, 0.1, 0.1, 0.1, 0.1, 0.1, 0.1] #меняем числа\n"
      ],
      "execution_count": null,
      "outputs": []
    },
    {
      "cell_type": "code",
      "metadata": {
        "id": "6eVR2UMdVgSY"
      },
      "source": [
        "X = pd.DataFrame(pulsar_stars.drop([\"TARGET\"], axis=1))\n",
        "y = pd.DataFrame(pulsar_stars[\"TARGET\"])"
      ],
      "execution_count": null,
      "outputs": []
    },
    {
      "cell_type": "code",
      "metadata": {
        "colab": {
          "base_uri": "https://localhost:8080/"
        },
        "id": "wXWXYkvVVjyc",
        "outputId": "3894f8c7-46c0-4727-f3dc-ff5a8ff08299"
      },
      "source": [
        "reg = LogisticRegression(random_state=2019, solver='lbfgs').fit(X, y.values.ravel()) #параметры вписать\n",
        "for i, p in enumerate(reg.predict_proba([STAR])[0]):\n",
        "    print(\"Вероятность отнесения к классу \\\"\" + (\"не пульсар\" if i == 0 else \"пульсар\") + \"\\\": \", p) #внимание пульсар или непульсар"
      ],
      "execution_count": null,
      "outputs": [
        {
          "output_type": "stream",
          "name": "stdout",
          "text": [
            "Вероятность отнесения к классу \"не пульсар\":  0.7264450276675015\n",
            "Вероятность отнесения к классу \"пульсар\":  0.2735549723324985\n"
          ]
        }
      ]
    },
    {
      "cell_type": "code",
      "metadata": {
        "id": "73IC1Ki2VsKJ"
      },
      "source": [
        "for m in [\"euclidean\", \"manhattan\"]: #выбираем нужную метрику если не указано ничего не меняем\n",
        "    dist = DistanceMetric.get_metric(m)\n",
        "    distances = [dist.pairwise(np.concatenate(([i], [STAR])))[0][1] for i in list(X.values)]"
      ],
      "execution_count": null,
      "outputs": []
    },
    {
      "cell_type": "code",
      "metadata": {
        "colab": {
          "base_uri": "https://localhost:8080/"
        },
        "id": "p618VEZKV2Dg",
        "outputId": "335867db-45d7-47aa-fd98-ae4ee32fdf01"
      },
      "source": [
        "    print(\"Расстояние до ближайшего по метрике \\\"\" + m + \"\\\":\", min(distances))"
      ],
      "execution_count": null,
      "outputs": [
        {
          "output_type": "stream",
          "name": "stdout",
          "text": [
            "Расстояние до ближайшего по метрике \"manhattan\": 0.5478999978926339\n"
          ]
        }
      ]
    },
    {
      "cell_type": "markdown",
      "metadata": {
        "id": "eK8X-67DXEiM"
      },
      "source": [
        "задание 2"
      ]
    },
    {
      "cell_type": "code",
      "metadata": {
        "colab": {
          "base_uri": "https://localhost:8080/"
        },
        "id": "xY470phGXHsE",
        "outputId": "5e5b9578-b507-4f1f-ece7-e7c437e9f70c"
      },
      "source": [
        "!pip install mnist\n",
        "from sklearn.tree import DecisionTreeClassifier\n",
        "from sklearn.linear_model import LogisticRegression\n",
        "from sklearn.model_selection import train_test_split\n",
        "from sklearn.ensemble import RandomForestClassifier\n",
        "from sklearn.multiclass import OneVsRestClassifier\n",
        "from sklearn.metrics import confusion_matrix\n",
        "from sklearn.decomposition import PCA"
      ],
      "execution_count": null,
      "outputs": [
        {
          "output_type": "stream",
          "name": "stdout",
          "text": [
            "Requirement already satisfied: mnist in /usr/local/lib/python3.7/dist-packages (0.2.2)\n",
            "Requirement already satisfied: numpy in /usr/local/lib/python3.7/dist-packages (from mnist) (1.19.5)\n"
          ]
        }
      ]
    },
    {
      "cell_type": "code",
      "metadata": {
        "id": "FR9ZZs00bupa"
      },
      "source": [
        "import pandas as pd\n",
        "import numpy as np\n",
        "import mnist\n",
        "import warnings"
      ],
      "execution_count": null,
      "outputs": []
    },
    {
      "cell_type": "code",
      "metadata": {
        "id": "yy2LzUXmXP-F"
      },
      "source": [
        "if __name__ == '__main__':\n",
        "    exp_disp = 0.77 #данные для первого пункта\n",
        "    test_ratio = 0.3 #значения из 3 пункта\n",
        "    random_state = 48 #числа из 4п\n",
        "    min_samples_leaf = 10 # числа из 4п\n",
        "    max_depth = 20 # числа из 4п\n",
        "    n_estimators = 10 # числа из 4п\n",
        "    clazz_randomforest = 5 #4п объектов класса 5\n",
        "    clazz_log_reg = 8\n",
        "    clazz_tree = 6\n",
        "    #image_file_randomforest = 5\n",
        "    #image_file_log_reg = 5\n",
        "    #image_file_tree = 5"
      ],
      "execution_count": null,
      "outputs": []
    },
    {
      "cell_type": "code",
      "metadata": {
        "id": "3X8VZSkCXhoy",
        "colab": {
          "base_uri": "https://localhost:8080/"
        },
        "outputId": "268fe27f-2b7b-41c8-e047-e08edda3355e"
      },
      "source": [
        "    from keras.datasets import mnist\n",
        "\n",
        "    (X_train, y_train), (X_pred, y_pred) = mnist.load_data()\n",
        "    dim = 784  # 28*28\n",
        "    X_train_ = X_train.reshape(len(X_train), dim)\n",
        "\n",
        "    pca = PCA(svd_solver='full')\n",
        "    pca = pca.fit(X_train_)\n",
        "\n",
        "    M = 0\n",
        "    for arg, val in enumerate(np.cumsum(pca.explained_variance_ratio_)):\n",
        "        if val > exp_disp:\n",
        "            M = arg + 1\n",
        "            break\n",
        "    \n",
        "    print(\"Количество главных компонент, чтобы доля объяснённой дисперсии превышала \" + str(exp_disp) + \": \" + str(M))"
      ],
      "execution_count": null,
      "outputs": [
        {
          "output_type": "stream",
          "name": "stdout",
          "text": [
            "Количество главных компонент, чтобы доля объяснённой дисперсии превышала 0.77: 37\n"
          ]
        }
      ]
    },
    {
      "cell_type": "code",
      "metadata": {
        "id": "m97VxltTXtIH",
        "colab": {
          "base_uri": "https://localhost:8080/"
        },
        "outputId": "3bb07437-5113-4447-946e-be90f2394138"
      },
      "source": [
        "    X_train = X_train.reshape(len(X_train), dim)\n",
        "\n",
        "    # Поиск счёт\n",
        "    pca = PCA(n_components=M, svd_solver='full')\n",
        "    pca = pca.fit(X_train)\n",
        "\n",
        "    # Разделение выборки\n",
        "    X_train, X_test, y_train, y_test = train_test_split(X_train, y_train, test_size=test_ratio, random_state=random_state)\n",
        "    \n",
        "    X_train = pca.transform(X_train)\n",
        "    X_test = pca.transform(X_test)\n",
        "\n",
        "    print(\"Выборочное среднее нулевой колонки тренировочного набора: \" + str(X_train.transpose()[0].mean()))"
      ],
      "execution_count": null,
      "outputs": [
        {
          "output_type": "stream",
          "name": "stdout",
          "text": [
            "Выборочное среднее нулевой колонки тренировочного набора: 2.032837033185744\n"
          ]
        }
      ]
    },
    {
      "cell_type": "code",
      "metadata": {
        "id": "gw3rYie0X5vz",
        "colab": {
          "base_uri": "https://localhost:8080/"
        },
        "outputId": "45f0b7bc-9368-462e-99c2-57a3c3f8c814"
      },
      "source": [
        "    random_forest = RandomForestClassifier(criterion='gini', min_samples_leaf=min_samples_leaf, max_depth=max_depth, n_estimators=n_estimators, random_state=random_state)\n",
        "    clf_random_forest = OneVsRestClassifier(random_forest).fit(X_train, y_train)\n",
        "    y_pred = clf_random_forest.predict(X_test)\n",
        "\n",
        "    CM = confusion_matrix(y_test, y_pred)\n",
        "    print(\"Количество верно классифицированных объектов класса \" + str(clazz_randomforest) + \": \" + str(CM[clazz_randomforest][clazz_randomforest]))"
      ],
      "execution_count": null,
      "outputs": [
        {
          "output_type": "stream",
          "name": "stdout",
          "text": [
            "Количество верно классифицированных объектов класса 5: 1441\n"
          ]
        }
      ]
    },
    {
      "cell_type": "code",
      "metadata": {
        "id": "oh60eCNl7OuH",
        "colab": {
          "base_uri": "https://localhost:8080/"
        },
        "outputId": "6ca3edb3-2432-45c4-a7a6-a1444fbab037"
      },
      "source": [
        "lr = LogisticRegression(random_state=48, solver='lbfgs')\n",
        "clf = OneVsRestClassifier(lr).fit(X_train, y_train)\n",
        "y_pred = clf.predict(X_test)\n",
        "\n",
        "CM = confusion_matrix(y_test, y_pred)\n",
        "print(\"Количество верно классифицированных объектов класса \" + str(clazz_log_reg) + \": \" + str(CM[clazz_log_reg][clazz_log_reg]))"
      ],
      "execution_count": null,
      "outputs": [
        {
          "output_type": "stream",
          "name": "stdout",
          "text": [
            "Количество верно классифицированных объектов класса 8: 1481\n"
          ]
        }
      ]
    },
    {
      "cell_type": "code",
      "metadata": {
        "id": "X1uMQEQV7l3R",
        "colab": {
          "base_uri": "https://localhost:8080/"
        },
        "outputId": "078dc8ef-b382-414c-e02f-bf48b9a86961"
      },
      "source": [
        "dtc = DecisionTreeClassifier(criterion='gini', min_samples_leaf=10, max_depth=20, random_state=48)\n",
        "clf = OneVsRestClassifier(dtc).fit(X_train, y_train)\n",
        "y_pred = clf.predict(X_test)\n",
        "\n",
        "CM = confusion_matrix(y_test, y_pred)\n",
        "print(\"Количество верно классифицированных объектов класса \" + str(clazz_tree) + \": \" + str(CM[clazz_tree][clazz_tree]))"
      ],
      "execution_count": null,
      "outputs": [
        {
          "output_type": "stream",
          "name": "stdout",
          "text": [
            "Количество верно классифицированных объектов класса 6: 1643\n"
          ]
        }
      ]
    }
  ]
}
{
  "nbformat": 4,
  "nbformat_minor": 0,
  "metadata": {
    "colab": {
      "name": "Копия блокнота \"Копия блокнота \"Копия блокнота \"Копия блокнота \"Копия блокнота \"Untitled3.ipynb\"\"\"\"\"",
      "provenance": [],
      "include_colab_link": true
    },
    "kernelspec": {
      "name": "python3",
      "display_name": "Python 3"
    },
    "language_info": {
      "name": "python"
    }
  },
  "cells": [
    {
      "cell_type": "markdown",
      "metadata": {
        "id": "view-in-github",
        "colab_type": "text"
      },
      "source": [
        "<a href=\"https://colab.research.google.com/github/katiatel/ml/blob/main/1.ipynb\" target=\"_parent\"><img src=\"https://colab.research.google.com/assets/colab-badge.svg\" alt=\"Open In Colab\"/></a>"
      ]
    },
    {
      "cell_type": "code",
      "metadata": {
        "id": "m-126CJJSzyr"
      },
      "source": [
        "import pandas as pd\n",
        "import numpy as np\n",
        "from sklearn.linear_model import LogisticRegression\n",
        "from sklearn.preprocessing import MinMaxScaler\n",
        "from sklearn.neighbors import DistanceMetric"
      ],
      "execution_count": null,
      "outputs": []
    },
    {
      "cell_type": "code",
      "metadata": {
        "colab": {
          "base_uri": "https://localhost:8080/"
        },
        "id": "hSFsG7TcT5Zf",
        "outputId": "37fedd62-edc5-4777-cc7d-909c85aff08d"
      },
      "source": [
        "DATA = pd.read_csv('pulsar_stars_new.csv', decimal='.', delimiter=\",\")\n",
        "\n",
        "pulsar_stars = DATA[((DATA.TARGET == 0) & (DATA.MIP >= 91.9609375) & (DATA.MIP <= 92.65625)) |\n",
        "                    ((DATA.TARGET == 1) & (DATA.MIP >= 47.4140625) & (DATA.MIP <= 52.9296875))]\n",
        "\n",
        "print(\"Кол-во строк:\", len(pulsar_stars))\n",
        "print(\"До нормировки:\", pulsar_stars.MIP.mean())"
      ],
      "execution_count": null,
      "outputs": [
        {
          "output_type": "stream",
          "name": "stdout",
          "text": [
            "Кол-во строк: 203\n",
            "До нормировки: 71.3385544950739\n"
          ]
        }
      ]
    },
    {
      "cell_type": "code",
      "metadata": {
        "colab": {
          "base_uri": "https://localhost:8080/"
        },
        "id": "-fp6sD4uUDkN",
        "outputId": "bb122ef5-13c5-4068-b8c6-22e7c6ebd76b"
      },
      "source": [
        "scaler = MinMaxScaler()\n",
        "scaler.fit(pulsar_stars)\n",
        "pulsar_stars = pd.DataFrame(scaler.transform(pulsar_stars), columns=pulsar_stars.columns)\n",
        "\n",
        "print(\"После нормировки:\", pulsar_stars.MIP.mean())"
      ],
      "execution_count": null,
      "outputs": [
        {
          "output_type": "stream",
          "name": "stdout",
          "text": [
            "После нормировки: 0.5288093550974714\n"
          ]
        }
      ]
    },
    {
      "cell_type": "code",
      "metadata": {
        "id": "wWr4ZSliVSw6"
      },
      "source": [
        "STAR = [0.634, 0.766, 0.008, 0.606, 0.834, 0.406, 0.488, 0.602] #\n"
      ],
      "execution_count": null,
      "outputs": []
    },
    {
      "cell_type": "code",
      "metadata": {
        "id": "6eVR2UMdVgSY"
      },
      "source": [
        "X = pd.DataFrame(pulsar_stars.drop([\"TARGET\"], axis=1))  "
      ],
      "execution_count": null,
      "outputs": []
    },
    {
      "cell_type": "code",
      "metadata": {
        "id": "73IC1Ki2VsKJ"
      },
      "source": [
        "for m in [\"euclidean\"]: #\n",
        "    dist = DistanceMetric.get_metric(m)\n",
        "    distances = [dist.pairwise(np.concatenate(([i], [STAR])))[0][1] for i in list(X.values)]"
      ],
      "execution_count": null,
      "outputs": []
    },
    {
      "cell_type": "code",
      "metadata": {
        "colab": {
          "base_uri": "https://localhost:8080/"
        },
        "id": "p618VEZKV2Dg",
        "outputId": "1e5700db-434a-4ea7-a86c-10185997994a"
      },
      "source": [
        "    print(\"Расстояние до ближайшего по метрике \\\"\" + m + \"\\\":\", min(distances))"
      ],
      "execution_count": null,
      "outputs": [
        {
          "output_type": "stream",
          "name": "stdout",
          "text": [
            "Расстояние до ближайшего по метрике \"euclidean\": 1.1133276526388964\n"
          ]
        }
      ]
    }
  ]
}
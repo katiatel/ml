{
  "nbformat": 4,
  "nbformat_minor": 0,
  "metadata": {
    "colab": {
      "name": " exam(final)",
      "provenance": [],
      "include_colab_link": true
    },
    "kernelspec": {
      "name": "python3",
      "display_name": "Python 3"
    },
    "language_info": {
      "name": "python"
    }
  },
  "cells": [
    {
      "cell_type": "markdown",
      "metadata": {
        "id": "view-in-github",
        "colab_type": "text"
      },
      "source": [
        "<a href=\"https://colab.research.google.com/github/katiatel/ml/blob/main/exam(final).ipynb\" target=\"_parent\"><img src=\"https://colab.research.google.com/assets/colab-badge.svg\" alt=\"Open In Colab\"/></a>"
      ]
    },
    {
      "cell_type": "code",
      "metadata": {
        "id": "m-126CJJSzyr"
      },
      "source": [
        "import pandas as pd\n",
        "import numpy as np"
      ],
      "execution_count": null,
      "outputs": []
    },
    {
      "cell_type": "code",
      "metadata": {
        "id": "CvqkgH3Aplih"
      },
      "source": [
        "from sklearn.linear_model import LogisticRegression\n",
        "from sklearn.preprocessing import MinMaxScaler\n",
        "from sklearn.neighbors import DistanceMetric"
      ],
      "execution_count": null,
      "outputs": []
    },
    {
      "cell_type": "code",
      "metadata": {
        "colab": {
          "base_uri": "https://localhost:8080/"
        },
        "id": "hSFsG7TcT5Zf",
        "outputId": "a68ee8f2-d59e-4dbb-d23b-5ff491034c0c"
      },
      "source": [
        "d = pd.read_csv('pulsar_stars_new.csv', decimal='.', delimiter=\",\")\n",
        "\n",
        "ps = d[((d.TARGET == 0) & (d.MIP >= 83) & (d.MIP <= 84)) |\n",
        "          ((d.TARGET == 1) & (d.MIP >= 83) & (d.MIP <= 89))]\n",
        "\n",
        "print(\"1: \", len(ps))\n",
        "print(\"2: \", ps.MIP.mean())"
      ],
      "execution_count": null,
      "outputs": [
        {
          "output_type": "stream",
          "name": "stdout",
          "text": [
            "1:  136\n",
            "2:  84.54279641544117\n"
          ]
        }
      ]
    },
    {
      "cell_type": "code",
      "metadata": {
        "colab": {
          "base_uri": "https://localhost:8080/"
        },
        "id": "-fp6sD4uUDkN",
        "outputId": "6582edfb-c1b6-453f-f0ef-982ebe5959ad"
      },
      "source": [
        "scaler = MinMaxScaler()\n",
        "scaler.fit(ps)\n",
        "ps = pd.DataFrame(scaler.transform(ps), columns=ps.columns)\n",
        "\n",
        "np.mean(ps['MIP'])"
      ],
      "execution_count": null,
      "outputs": [
        {
          "output_type": "execute_result",
          "data": {
            "text/plain": [
              "0.26595638255302173"
            ]
          },
          "metadata": {},
          "execution_count": 33
        }
      ]
    },
    {
      "cell_type": "code",
      "metadata": {
        "id": "wWr4ZSliVSw6"
      },
      "source": [
        "st = [0.1, 0.1, 0.1, 0.1, 0.1, 0.1, 0.1, 0.1] #меняем числа\n"
      ],
      "execution_count": null,
      "outputs": []
    },
    {
      "cell_type": "code",
      "metadata": {
        "id": "6eVR2UMdVgSY"
      },
      "source": [
        "X = pd.DataFrame(ps.drop([\"TARGET\"], axis=1))\n",
        "y = pd.DataFrame(ps[\"TARGET\"])"
      ],
      "execution_count": null,
      "outputs": []
    },
    {
      "cell_type": "code",
      "metadata": {
        "colab": {
          "base_uri": "https://localhost:8080/"
        },
        "id": "wXWXYkvVVjyc",
        "outputId": "24cfbfb1-1c7f-4635-e92b-1962af082a2f"
      },
      "source": [
        "reg = LogisticRegression(random_state=2019, solver='lbfgs').fit(X, y.values.ravel()) #параметры вписать\n",
        "for i, p in enumerate(reg.predict_proba([st])[0]):\n",
        "    print((\"не пульсар\" if i == 0 else \"пульсар\") + \"\\\": \", p) #внимание пульсар или непульсар"
      ],
      "execution_count": null,
      "outputs": [
        {
          "output_type": "stream",
          "name": "stdout",
          "text": [
            "не пульсар\":  0.7264450276675015\n",
            "пульсар\":  0.2735549723324985\n"
          ]
        }
      ]
    },
    {
      "cell_type": "code",
      "metadata": {
        "id": "73IC1Ki2VsKJ"
      },
      "source": [
        "for m in [\"euclidean\", \"manhattan\"]: #выбираем нужную метрику если не указано ничего не меняем\n",
        "    dist = DistanceMetric.get_metric(m)\n",
        "    dist1 = [dist.pairwise(np.concatenate(([i], [st])))[0][1] for i in list(X.values)]"
      ],
      "execution_count": null,
      "outputs": []
    },
    {
      "cell_type": "code",
      "metadata": {
        "colab": {
          "base_uri": "https://localhost:8080/"
        },
        "id": "p618VEZKV2Dg",
        "outputId": "1022b4e2-1560-4a58-e2f8-1f92117ac407"
      },
      "source": [
        "    print(m + \":\", min(dist1))"
      ],
      "execution_count": null,
      "outputs": [
        {
          "output_type": "stream",
          "name": "stdout",
          "text": [
            "manhattan: 0.5478999978926339\n"
          ]
        }
      ]
    },
    {
      "cell_type": "markdown",
      "metadata": {
        "id": "eK8X-67DXEiM"
      },
      "source": [
        "задание 2"
      ]
    },
    {
      "cell_type": "code",
      "metadata": {
        "colab": {
          "base_uri": "https://localhost:8080/"
        },
        "id": "xY470phGXHsE",
        "outputId": "7aedc79a-450a-4278-aa2f-3afd8447a2a6"
      },
      "source": [
        "!pip install mnist"
      ],
      "execution_count": null,
      "outputs": [
        {
          "output_type": "stream",
          "name": "stdout",
          "text": [
            "Requirement already satisfied: mnist in /usr/local/lib/python3.7/dist-packages (0.2.2)\n",
            "Requirement already satisfied: numpy in /usr/local/lib/python3.7/dist-packages (from mnist) (1.19.5)\n"
          ]
        }
      ]
    },
    {
      "cell_type": "code",
      "metadata": {
        "id": "FR9ZZs00bupa"
      },
      "source": [
        "import pandas as pd\n",
        "import numpy as np\n",
        "import mnist\n",
        "import warnings"
      ],
      "execution_count": null,
      "outputs": []
    },
    {
      "cell_type": "code",
      "metadata": {
        "id": "3X8VZSkCXhoy",
        "colab": {
          "base_uri": "https://localhost:8080/"
        },
        "outputId": "66478ed4-f426-4344-d16a-32b8f98b856d"
      },
      "source": [
        "from keras.datasets import mnist\n",
        "from sklearn.decomposition import PCA\n",
        "exp_disp = 0.83\n",
        "\n",
        "(X_tr, y_tr), (X_pr, y_pr) = mnist.load_data()\n",
        "dim = 784\n",
        "X_tr_ = X_tr.reshape(len(X_tr), dim)\n",
        "\n",
        "pca = PCA(svd_solver='full')\n",
        "pca = pca.fit(X_tr_)\n",
        "\n",
        "M = 0\n",
        "for arg, val in enumerate(np.cumsum(pca.explained_variance_ratio_)):\n",
        "    if val > exp_disp:\n",
        "        M = arg + 1\n",
        "        break\n",
        "\n",
        "print(str(M))"
      ],
      "execution_count": null,
      "outputs": [
        {
          "output_type": "stream",
          "name": "stdout",
          "text": [
            "52\n"
          ]
        }
      ]
    },
    {
      "cell_type": "code",
      "metadata": {
        "id": "m97VxltTXtIH",
        "colab": {
          "base_uri": "https://localhost:8080/"
        },
        "outputId": "75baab76-46d8-404b-ab16-16b10c8d4d0f"
      },
      "source": [
        "from sklearn.model_selection import train_test_split   \n",
        "X_tr = X_tr.reshape(len(X_tr), dim)\n",
        "\n",
        "pca = PCA(n_components=M, svd_solver='full')\n",
        "pca = pca.fit(X_tr)\n",
        "\n",
        "X_tr, X_test, y_tr, y_test = train_test_split(X_tr, y_tr, test_size=0.3, random_state=126)\n",
        "    \n",
        "X_tr = pca.transform(X_tr)\n",
        "X_test = pca.transform(X_test)\n",
        "\n",
        "print(str(X_tr.transpose()[0].mean()))"
      ],
      "execution_count": null,
      "outputs": [
        {
          "output_type": "stream",
          "name": "stdout",
          "text": [
            "0.5965431171660649\n"
          ]
        }
      ]
    },
    {
      "cell_type": "code",
      "metadata": {
        "id": "gw3rYie0X5vz",
        "colab": {
          "base_uri": "https://localhost:8080/"
        },
        "outputId": "5a4c4d59-ce84-446c-a515-02b9ad50e5fc"
      },
      "source": [
        "from sklearn.ensemble import RandomForestClassifier\n",
        "from sklearn.multiclass import OneVsRestClassifier\n",
        "from sklearn.metrics import confusion_matrix\n",
        "\n",
        "rf = RandomForestClassifier(criterion='gini', min_samples_leaf=10, max_depth=20, n_estimators=10, random_state=126)\n",
        "clf_r_f = OneVsRestClassifier(rf).fit(X_tr, y_tr)\n",
        "y_pr = clf_r_f.predict(X_test)\n",
        "\n",
        "a = 5\n",
        "con_m = confusion_matrix(y_test, y_pr)\n",
        "print(str(con_m[a][a]))"
      ],
      "execution_count": null,
      "outputs": [
        {
          "output_type": "stream",
          "name": "stdout",
          "text": [
            "1414\n"
          ]
        }
      ]
    },
    {
      "cell_type": "code",
      "metadata": {
        "id": "oh60eCNl7OuH",
        "colab": {
          "base_uri": "https://localhost:8080/"
        },
        "outputId": "c65c7744-6551-4844-a60c-fe4051dc2ba9"
      },
      "source": [
        "from sklearn.linear_model import LogisticRegression\n",
        "\n",
        "log_r = LogisticRegression(random_state=48, solver='lbfgs')\n",
        "clf = OneVsRestClassifier(log_r).fit(X_tr, y_tr)\n",
        "y_pr = clf.predict(X_test)\n",
        "\n",
        "b = 8\n",
        "con_m = confusion_matrix(y_test, y_pr)\n",
        "print(str(con_m[b][b]))"
      ],
      "execution_count": null,
      "outputs": [
        {
          "output_type": "stream",
          "name": "stderr",
          "text": [
            "/usr/local/lib/python3.7/dist-packages/sklearn/linear_model/_logistic.py:940: ConvergenceWarning: lbfgs failed to converge (status=1):\n",
            "STOP: TOTAL NO. of ITERATIONS REACHED LIMIT.\n",
            "\n",
            "Increase the number of iterations (max_iter) or scale the data as shown in:\n",
            "    https://scikit-learn.org/stable/modules/preprocessing.html\n",
            "Please also refer to the documentation for alternative solver options:\n",
            "    https://scikit-learn.org/stable/modules/linear_model.html#logistic-regression\n",
            "  extra_warning_msg=_LOGISTIC_SOLVER_CONVERGENCE_MSG)\n"
          ]
        },
        {
          "output_type": "stream",
          "name": "stdout",
          "text": [
            "1508\n"
          ]
        }
      ]
    },
    {
      "cell_type": "code",
      "metadata": {
        "id": "X1uMQEQV7l3R",
        "colab": {
          "base_uri": "https://localhost:8080/"
        },
        "outputId": "0fc3ff80-4adf-4bc3-833e-74ef38b063b8"
      },
      "source": [
        "from sklearn.tree import DecisionTreeClassifier\n",
        "\n",
        "d_t_c = DecisionTreeClassifier(criterion='gini', min_samples_leaf=10, max_depth=20, random_state=48)\n",
        "clf = OneVsRestClassifier(d_t_c).fit(X_tr, y_tr)\n",
        "y_pr = clf.predict(X_test)\n",
        "\n",
        "c = 6\n",
        "con_m = confusion_matrix(y_test, y_pr)\n",
        "print(str(con_m[c][c]))"
      ],
      "execution_count": null,
      "outputs": [
        {
          "output_type": "stream",
          "name": "stdout",
          "text": [
            "1547\n"
          ]
        }
      ]
    }
  ]
}
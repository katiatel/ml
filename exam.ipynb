{
  "nbformat": 4,
  "nbformat_minor": 0,
  "metadata": {
    "colab": {
      "name": "exam",
      "provenance": [],
      "include_colab_link": true
    },
    "kernelspec": {
      "name": "python3",
      "display_name": "Python 3"
    },
    "language_info": {
      "name": "python"
    }
  },
  "cells": [
    {
      "cell_type": "markdown",
      "metadata": {
        "id": "view-in-github",
        "colab_type": "text"
      },
      "source": [
        "<a href=\"https://colab.research.google.com/github/katiatel/ml/blob/main/exam.ipynb\" target=\"_parent\"><img src=\"https://colab.research.google.com/assets/colab-badge.svg\" alt=\"Open In Colab\"/></a>"
      ]
    },
    {
      "cell_type": "code",
      "metadata": {
        "id": "m-126CJJSzyr"
      },
      "source": [
        "import pandas as pd\n",
        "import numpy as np"
      ],
      "execution_count": null,
      "outputs": []
    },
    {
      "cell_type": "code",
      "metadata": {
        "id": "CvqkgH3Aplih"
      },
      "source": [
        "from sklearn.linear_model import LogisticRegression\n",
        "from sklearn.preprocessing import MinMaxScaler\n",
        "from sklearn.neighbors import DistanceMetric"
      ],
      "execution_count": null,
      "outputs": []
    },
    {
      "cell_type": "code",
      "metadata": {
        "colab": {
          "base_uri": "https://localhost:8080/"
        },
        "id": "hSFsG7TcT5Zf",
        "outputId": "4d7be5ef-c8dd-48a7-f3b6-f4fdb4596aeb"
      },
      "source": [
        "d = pd.read_csv('pulsar_stars_new.csv', decimal='.', delimiter=\",\")\n",
        "\n",
        "ps = d[((d.TARGET == 0) & (d.MIP >= 83) & (d.MIP <= 84)) |\n",
        "          ((d.TARGET == 1) & (d.MIP >= 83) & (d.MIP <= 89))]\n",
        "\n",
        "print(\"1: \", len(ps))\n",
        "print(\"2: \", ps.MIP.mean())"
      ],
      "execution_count": null,
      "outputs": [
        {
          "output_type": "stream",
          "name": "stdout",
          "text": [
            "1:  136\n",
            "2:  84.54279641544117\n"
          ]
        }
      ]
    },
    {
      "cell_type": "code",
      "metadata": {
        "colab": {
          "base_uri": "https://localhost:8080/"
        },
        "id": "-fp6sD4uUDkN",
        "outputId": "d772f5c7-6bee-402e-a9b0-036254f0ff3a"
      },
      "source": [
        "scaler = MinMaxScaler()\n",
        "scaler.fit(ps)\n",
        "ps = pd.DataFrame(scaler.transform(ps), columns=ps.columns)\n",
        "\n",
        "np.mean(ps['MIP'])"
      ],
      "execution_count": null,
      "outputs": [
        {
          "output_type": "execute_result",
          "data": {
            "text/plain": [
              "0.26595638255302173"
            ]
          },
          "metadata": {},
          "execution_count": 20
        }
      ]
    },
    {
      "cell_type": "code",
      "metadata": {
        "id": "wWr4ZSliVSw6"
      },
      "source": [
        "st = [0.1, 0.1, 0.1, 0.1, 0.1, 0.1, 0.1, 0.1] #меняем числа\n"
      ],
      "execution_count": null,
      "outputs": []
    },
    {
      "cell_type": "code",
      "metadata": {
        "id": "6eVR2UMdVgSY"
      },
      "source": [
        "X = pd.DataFrame(ps.drop([\"TARGET\"], axis=1))\n",
        "y = pd.DataFrame(ps[\"TARGET\"])"
      ],
      "execution_count": null,
      "outputs": []
    },
    {
      "cell_type": "code",
      "metadata": {
        "colab": {
          "base_uri": "https://localhost:8080/"
        },
        "id": "wXWXYkvVVjyc",
        "outputId": "191d7e33-62c4-4997-b27f-7b3f0313b3d3"
      },
      "source": [
        "reg = LogisticRegression(random_state=2019, solver='lbfgs').fit(X, y.values.ravel()) #параметры вписать\n",
        "for i, p in enumerate(reg.predict_proba([st])[0]):\n",
        "    print((\"не пульсар\" if i == 0 else \"пульсар\") + \"\\\": \", p) #внимание пульсар или непульсар"
      ],
      "execution_count": null,
      "outputs": [
        {
          "output_type": "stream",
          "name": "stdout",
          "text": [
            "не пульсар\":  0.7264450276675015\n",
            "пульсар\":  0.2735549723324985\n"
          ]
        }
      ]
    },
    {
      "cell_type": "code",
      "metadata": {
        "id": "73IC1Ki2VsKJ"
      },
      "source": [
        "for m in [\"euclidean\", \"manhattan\"]: #выбираем нужную метрику если не указано ничего не меняем\n",
        "    dist = DistanceMetric.get_metric(m)\n",
        "    dist1 = [dist.pairwise(np.concatenate(([i], [st])))[0][1] for i in list(X.values)]"
      ],
      "execution_count": null,
      "outputs": []
    },
    {
      "cell_type": "code",
      "metadata": {
        "colab": {
          "base_uri": "https://localhost:8080/"
        },
        "id": "p618VEZKV2Dg",
        "outputId": "af5bbbd0-7609-4560-fccd-5ba0d0e4a648"
      },
      "source": [
        "    print(m + \":\", min(dist1))"
      ],
      "execution_count": null,
      "outputs": [
        {
          "output_type": "stream",
          "name": "stdout",
          "text": [
            "manhattan: 0.5478999978926339\n"
          ]
        }
      ]
    },
    {
      "cell_type": "markdown",
      "metadata": {
        "id": "eK8X-67DXEiM"
      },
      "source": [
        "задание 2"
      ]
    },
    {
      "cell_type": "code",
      "metadata": {
        "colab": {
          "base_uri": "https://localhost:8080/"
        },
        "id": "xY470phGXHsE",
        "outputId": "fcc8bc5f-ddb0-41c9-93e9-e8dea9f8f020"
      },
      "source": [
        "!pip install mnist"
      ],
      "execution_count": null,
      "outputs": [
        {
          "output_type": "stream",
          "name": "stdout",
          "text": [
            "Requirement already satisfied: mnist in /usr/local/lib/python3.7/dist-packages (0.2.2)\n",
            "Requirement already satisfied: numpy in /usr/local/lib/python3.7/dist-packages (from mnist) (1.19.5)\n"
          ]
        }
      ]
    },
    {
      "cell_type": "code",
      "metadata": {
        "id": "FR9ZZs00bupa"
      },
      "source": [
        "import pandas as pd\n",
        "import numpy as np\n",
        "import mnist\n",
        "import warnings"
      ],
      "execution_count": null,
      "outputs": []
    },
    {
      "cell_type": "code",
      "metadata": {
        "id": "3X8VZSkCXhoy",
        "colab": {
          "base_uri": "https://localhost:8080/"
        },
        "outputId": "6ef3eda5-d060-42b0-b935-0dccbc5b26d5"
      },
      "source": [
        "from keras.datasets import mnist\n",
        "from sklearn.decomposition import PCA\n",
        "exp_disp = 0.77\n",
        "\n",
        "(X_tr, y_tr), (X_pr, y_pr) = mnist.load_data()\n",
        "dim = 784\n",
        "X_tr_ = X_tr.reshape(len(X_tr), dim)\n",
        "\n",
        "pca = PCA(svd_solver='full')\n",
        "pca = pca.fit(X_tr_)\n",
        "\n",
        "M = 0\n",
        "for arg, val in enumerate(np.cumsum(pca.explained_variance_ratio_)):\n",
        "    if val > exp_disp:\n",
        "        M = arg + 1\n",
        "        break\n",
        "\n",
        "print(str(exp_disp) + \": \" + str(M))"
      ],
      "execution_count": null,
      "outputs": [
        {
          "output_type": "stream",
          "name": "stdout",
          "text": [
            "0.77: 37\n"
          ]
        }
      ]
    },
    {
      "cell_type": "code",
      "metadata": {
        "id": "m97VxltTXtIH",
        "colab": {
          "base_uri": "https://localhost:8080/"
        },
        "outputId": "3041ba32-d114-453e-b635-62c4536b5554"
      },
      "source": [
        "from sklearn.model_selection import train_test_split   \n",
        "X_tr = X_tr.reshape(len(X_tr), dim)\n",
        "\n",
        "pca = PCA(n_components=M, svd_solver='full')\n",
        "pca = pca.fit(X_tr)\n",
        "\n",
        "X_tr, X_test, y_tr, y_test = train_test_split(X_tr, y_tr, test_size=0.3, random_state=48)\n",
        "    \n",
        "X_tr = pca.transform(X_tr)\n",
        "X_test = pca.transform(X_test)\n",
        "\n",
        "print(str(X_tr.transpose()[0].mean()))"
      ],
      "execution_count": null,
      "outputs": [
        {
          "output_type": "stream",
          "name": "stdout",
          "text": [
            "2.032837033185744\n"
          ]
        }
      ]
    },
    {
      "cell_type": "code",
      "metadata": {
        "id": "gw3rYie0X5vz",
        "colab": {
          "base_uri": "https://localhost:8080/"
        },
        "outputId": "cfd368e7-59e2-4fc6-805a-6d7f23b6d409"
      },
      "source": [
        "from sklearn.ensemble import RandomForestClassifier\n",
        "from sklearn.multiclass import OneVsRestClassifier\n",
        "from sklearn.metrics import confusion_matrix\n",
        "\n",
        "rf = RandomForestClassifier(criterion='gini', min_samples_leaf=10, max_depth=20, n_estimators=10, random_state=48)\n",
        "clf_r_f = OneVsRestClassifier(rf).fit(X_tr, y_tr)\n",
        "y_pr = clf_r_f.predict(X_test)\n",
        "\n",
        "a = 5\n",
        "con_m = confusion_matrix(y_test, y_pr)\n",
        "print(str(con_m[a][a]))"
      ],
      "execution_count": null,
      "outputs": [
        {
          "output_type": "stream",
          "name": "stdout",
          "text": [
            "1441\n"
          ]
        }
      ]
    },
    {
      "cell_type": "code",
      "metadata": {
        "id": "oh60eCNl7OuH",
        "colab": {
          "base_uri": "https://localhost:8080/"
        },
        "outputId": "eb8edbdc-015f-4f06-b914-179500a0bd21"
      },
      "source": [
        "from sklearn.linear_model import LogisticRegression\n",
        "\n",
        "log_r = LogisticRegression(random_state=48, solver='lbfgs')\n",
        "clf = OneVsRestClassifier(log_r).fit(X_tr, y_tr)\n",
        "y_pr = clf.predict(X_test)\n",
        "\n",
        "b = 8\n",
        "con_m = confusion_matrix(y_test, y_pr)\n",
        "print(str(con_m[b][b]))"
      ],
      "execution_count": null,
      "outputs": [
        {
          "output_type": "stream",
          "name": "stdout",
          "text": [
            "1481\n"
          ]
        }
      ]
    },
    {
      "cell_type": "code",
      "metadata": {
        "id": "X1uMQEQV7l3R",
        "colab": {
          "base_uri": "https://localhost:8080/"
        },
        "outputId": "d9826cf6-c62b-4097-b8c4-235224fab30f"
      },
      "source": [
        "from sklearn.tree import DecisionTreeClassifier\n",
        "\n",
        "d_t_c = DecisionTreeClassifier(criterion='gini', min_samples_leaf=10, max_depth=20, random_state=48)\n",
        "clf = OneVsRestClassifier(d_t_c).fit(X_tr, y_tr)\n",
        "y_pr = clf.predict(X_test)\n",
        "\n",
        "c = 6\n",
        "con_m = confusion_matrix(y_test, y_pr)\n",
        "print(str(con_m[c][c]))"
      ],
      "execution_count": null,
      "outputs": [
        {
          "output_type": "stream",
          "name": "stdout",
          "text": [
            "1643\n"
          ]
        }
      ]
    }
  ]
}